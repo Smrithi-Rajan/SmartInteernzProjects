{
  "nbformat": 4,
  "nbformat_minor": 0,
  "metadata": {
    "colab": {
      "provenance": []
    },
    "kernelspec": {
      "name": "python3",
      "display_name": "Python 3"
    },
    "language_info": {
      "name": "python"
    }
  },
  "cells": [
    {
      "cell_type": "code",
      "execution_count": null,
      "metadata": {
        "id": "Tbt_Fu8xNNWO"
      },
      "outputs": [],
      "source": [
        "import seaborn as sns"
      ]
    },
    {
      "cell_type": "code",
      "source": [
        "df = sns.load_dataset('car_crashes')"
      ],
      "metadata": {
        "id": "xszdAlvaNRaS"
      },
      "execution_count": null,
      "outputs": []
    },
    {
      "cell_type": "code",
      "source": [
        "df"
      ],
      "metadata": {
        "colab": {
          "base_uri": "https://localhost:8080/",
          "height": 1000
        },
        "id": "kqbX6vFaNWHG",
        "outputId": "419c330e-286c-42c0-da8d-2533207b7e69"
      },
      "execution_count": null,
      "outputs": [
        {
          "output_type": "execute_result",
          "data": {
            "text/plain": [
              "    total  speeding  alcohol  not_distracted  no_previous  ins_premium  \\\n",
              "0    18.8     7.332    5.640          18.048       15.040       784.55   \n",
              "1    18.1     7.421    4.525          16.290       17.014      1053.48   \n",
              "2    18.6     6.510    5.208          15.624       17.856       899.47   \n",
              "3    22.4     4.032    5.824          21.056       21.280       827.34   \n",
              "4    12.0     4.200    3.360          10.920       10.680       878.41   \n",
              "5    13.6     5.032    3.808          10.744       12.920       835.50   \n",
              "6    10.8     4.968    3.888           9.396        8.856      1068.73   \n",
              "7    16.2     6.156    4.860          14.094       16.038      1137.87   \n",
              "8     5.9     2.006    1.593           5.900        5.900      1273.89   \n",
              "9    17.9     3.759    5.191          16.468       16.826      1160.13   \n",
              "10   15.6     2.964    3.900          14.820       14.508       913.15   \n",
              "11   17.5     9.450    7.175          14.350       15.225       861.18   \n",
              "12   15.3     5.508    4.437          13.005       14.994       641.96   \n",
              "13   12.8     4.608    4.352          12.032       12.288       803.11   \n",
              "14   14.5     3.625    4.205          13.775       13.775       710.46   \n",
              "15   15.7     2.669    3.925          15.229       13.659       649.06   \n",
              "16   17.8     4.806    4.272          13.706       15.130       780.45   \n",
              "17   21.4     4.066    4.922          16.692       16.264       872.51   \n",
              "18   20.5     7.175    6.765          14.965       20.090      1281.55   \n",
              "19   15.1     5.738    4.530          13.137       12.684       661.88   \n",
              "20   12.5     4.250    4.000           8.875       12.375      1048.78   \n",
              "21    8.2     1.886    2.870           7.134        6.560      1011.14   \n",
              "22   14.1     3.384    3.948          13.395       10.857      1110.61   \n",
              "23    9.6     2.208    2.784           8.448        8.448       777.18   \n",
              "24   17.6     2.640    5.456           1.760       17.600       896.07   \n",
              "25   16.1     6.923    5.474          14.812       13.524       790.32   \n",
              "26   21.4     8.346    9.416          17.976       18.190       816.21   \n",
              "27   14.9     1.937    5.215          13.857       13.410       732.28   \n",
              "28   14.7     5.439    4.704          13.965       14.553      1029.87   \n",
              "29   11.6     4.060    3.480          10.092        9.628       746.54   \n",
              "30   11.2     1.792    3.136           9.632        8.736      1301.52   \n",
              "31   18.4     3.496    4.968          12.328       18.032       869.85   \n",
              "32   12.3     3.936    3.567          10.824        9.840      1234.31   \n",
              "33   16.8     6.552    5.208          15.792       13.608       708.24   \n",
              "34   23.9     5.497   10.038          23.661       20.554       688.75   \n",
              "35   14.1     3.948    4.794          13.959       11.562       697.73   \n",
              "36   19.9     6.368    5.771          18.308       18.706       881.51   \n",
              "37   12.8     4.224    3.328           8.576       11.520       804.71   \n",
              "38   18.2     9.100    5.642          17.472       16.016       905.99   \n",
              "39   11.1     3.774    4.218          10.212        8.769      1148.99   \n",
              "40   23.9     9.082    9.799          22.944       19.359       858.97   \n",
              "41   19.4     6.014    6.402          19.012       16.684       669.31   \n",
              "42   19.5     4.095    5.655          15.990       15.795       767.91   \n",
              "43   19.4     7.760    7.372          17.654       16.878      1004.75   \n",
              "44   11.3     4.859    1.808           9.944       10.848       809.38   \n",
              "45   13.6     4.080    4.080          13.056       12.920       716.20   \n",
              "46   12.7     2.413    3.429          11.049       11.176       768.95   \n",
              "47   10.6     4.452    3.498           8.692        9.116       890.03   \n",
              "48   23.8     8.092    6.664          23.086       20.706       992.61   \n",
              "49   13.8     4.968    4.554           5.382       11.592       670.31   \n",
              "50   17.4     7.308    5.568          14.094       15.660       791.14   \n",
              "\n",
              "    ins_losses abbrev  \n",
              "0       145.08     AL  \n",
              "1       133.93     AK  \n",
              "2       110.35     AZ  \n",
              "3       142.39     AR  \n",
              "4       165.63     CA  \n",
              "5       139.91     CO  \n",
              "6       167.02     CT  \n",
              "7       151.48     DE  \n",
              "8       136.05     DC  \n",
              "9       144.18     FL  \n",
              "10      142.80     GA  \n",
              "11      120.92     HI  \n",
              "12       82.75     ID  \n",
              "13      139.15     IL  \n",
              "14      108.92     IN  \n",
              "15      114.47     IA  \n",
              "16      133.80     KS  \n",
              "17      137.13     KY  \n",
              "18      194.78     LA  \n",
              "19       96.57     ME  \n",
              "20      192.70     MD  \n",
              "21      135.63     MA  \n",
              "22      152.26     MI  \n",
              "23      133.35     MN  \n",
              "24      155.77     MS  \n",
              "25      144.45     MO  \n",
              "26       85.15     MT  \n",
              "27      114.82     NE  \n",
              "28      138.71     NV  \n",
              "29      120.21     NH  \n",
              "30      159.85     NJ  \n",
              "31      120.75     NM  \n",
              "32      150.01     NY  \n",
              "33      127.82     NC  \n",
              "34      109.72     ND  \n",
              "35      133.52     OH  \n",
              "36      178.86     OK  \n",
              "37      104.61     OR  \n",
              "38      153.86     PA  \n",
              "39      148.58     RI  \n",
              "40      116.29     SC  \n",
              "41       96.87     SD  \n",
              "42      155.57     TN  \n",
              "43      156.83     TX  \n",
              "44      109.48     UT  \n",
              "45      109.61     VT  \n",
              "46      153.72     VA  \n",
              "47      111.62     WA  \n",
              "48      152.56     WV  \n",
              "49      106.62     WI  \n",
              "50      122.04     WY  "
            ],
            "text/html": [
              "\n",
              "  <div id=\"df-f1eaed59-5f9f-41a5-8980-4f7464ae61f1\" class=\"colab-df-container\">\n",
              "    <div>\n",
              "<style scoped>\n",
              "    .dataframe tbody tr th:only-of-type {\n",
              "        vertical-align: middle;\n",
              "    }\n",
              "\n",
              "    .dataframe tbody tr th {\n",
              "        vertical-align: top;\n",
              "    }\n",
              "\n",
              "    .dataframe thead th {\n",
              "        text-align: right;\n",
              "    }\n",
              "</style>\n",
              "<table border=\"1\" class=\"dataframe\">\n",
              "  <thead>\n",
              "    <tr style=\"text-align: right;\">\n",
              "      <th></th>\n",
              "      <th>total</th>\n",
              "      <th>speeding</th>\n",
              "      <th>alcohol</th>\n",
              "      <th>not_distracted</th>\n",
              "      <th>no_previous</th>\n",
              "      <th>ins_premium</th>\n",
              "      <th>ins_losses</th>\n",
              "      <th>abbrev</th>\n",
              "    </tr>\n",
              "  </thead>\n",
              "  <tbody>\n",
              "    <tr>\n",
              "      <th>0</th>\n",
              "      <td>18.8</td>\n",
              "      <td>7.332</td>\n",
              "      <td>5.640</td>\n",
              "      <td>18.048</td>\n",
              "      <td>15.040</td>\n",
              "      <td>784.55</td>\n",
              "      <td>145.08</td>\n",
              "      <td>AL</td>\n",
              "    </tr>\n",
              "    <tr>\n",
              "      <th>1</th>\n",
              "      <td>18.1</td>\n",
              "      <td>7.421</td>\n",
              "      <td>4.525</td>\n",
              "      <td>16.290</td>\n",
              "      <td>17.014</td>\n",
              "      <td>1053.48</td>\n",
              "      <td>133.93</td>\n",
              "      <td>AK</td>\n",
              "    </tr>\n",
              "    <tr>\n",
              "      <th>2</th>\n",
              "      <td>18.6</td>\n",
              "      <td>6.510</td>\n",
              "      <td>5.208</td>\n",
              "      <td>15.624</td>\n",
              "      <td>17.856</td>\n",
              "      <td>899.47</td>\n",
              "      <td>110.35</td>\n",
              "      <td>AZ</td>\n",
              "    </tr>\n",
              "    <tr>\n",
              "      <th>3</th>\n",
              "      <td>22.4</td>\n",
              "      <td>4.032</td>\n",
              "      <td>5.824</td>\n",
              "      <td>21.056</td>\n",
              "      <td>21.280</td>\n",
              "      <td>827.34</td>\n",
              "      <td>142.39</td>\n",
              "      <td>AR</td>\n",
              "    </tr>\n",
              "    <tr>\n",
              "      <th>4</th>\n",
              "      <td>12.0</td>\n",
              "      <td>4.200</td>\n",
              "      <td>3.360</td>\n",
              "      <td>10.920</td>\n",
              "      <td>10.680</td>\n",
              "      <td>878.41</td>\n",
              "      <td>165.63</td>\n",
              "      <td>CA</td>\n",
              "    </tr>\n",
              "    <tr>\n",
              "      <th>5</th>\n",
              "      <td>13.6</td>\n",
              "      <td>5.032</td>\n",
              "      <td>3.808</td>\n",
              "      <td>10.744</td>\n",
              "      <td>12.920</td>\n",
              "      <td>835.50</td>\n",
              "      <td>139.91</td>\n",
              "      <td>CO</td>\n",
              "    </tr>\n",
              "    <tr>\n",
              "      <th>6</th>\n",
              "      <td>10.8</td>\n",
              "      <td>4.968</td>\n",
              "      <td>3.888</td>\n",
              "      <td>9.396</td>\n",
              "      <td>8.856</td>\n",
              "      <td>1068.73</td>\n",
              "      <td>167.02</td>\n",
              "      <td>CT</td>\n",
              "    </tr>\n",
              "    <tr>\n",
              "      <th>7</th>\n",
              "      <td>16.2</td>\n",
              "      <td>6.156</td>\n",
              "      <td>4.860</td>\n",
              "      <td>14.094</td>\n",
              "      <td>16.038</td>\n",
              "      <td>1137.87</td>\n",
              "      <td>151.48</td>\n",
              "      <td>DE</td>\n",
              "    </tr>\n",
              "    <tr>\n",
              "      <th>8</th>\n",
              "      <td>5.9</td>\n",
              "      <td>2.006</td>\n",
              "      <td>1.593</td>\n",
              "      <td>5.900</td>\n",
              "      <td>5.900</td>\n",
              "      <td>1273.89</td>\n",
              "      <td>136.05</td>\n",
              "      <td>DC</td>\n",
              "    </tr>\n",
              "    <tr>\n",
              "      <th>9</th>\n",
              "      <td>17.9</td>\n",
              "      <td>3.759</td>\n",
              "      <td>5.191</td>\n",
              "      <td>16.468</td>\n",
              "      <td>16.826</td>\n",
              "      <td>1160.13</td>\n",
              "      <td>144.18</td>\n",
              "      <td>FL</td>\n",
              "    </tr>\n",
              "    <tr>\n",
              "      <th>10</th>\n",
              "      <td>15.6</td>\n",
              "      <td>2.964</td>\n",
              "      <td>3.900</td>\n",
              "      <td>14.820</td>\n",
              "      <td>14.508</td>\n",
              "      <td>913.15</td>\n",
              "      <td>142.80</td>\n",
              "      <td>GA</td>\n",
              "    </tr>\n",
              "    <tr>\n",
              "      <th>11</th>\n",
              "      <td>17.5</td>\n",
              "      <td>9.450</td>\n",
              "      <td>7.175</td>\n",
              "      <td>14.350</td>\n",
              "      <td>15.225</td>\n",
              "      <td>861.18</td>\n",
              "      <td>120.92</td>\n",
              "      <td>HI</td>\n",
              "    </tr>\n",
              "    <tr>\n",
              "      <th>12</th>\n",
              "      <td>15.3</td>\n",
              "      <td>5.508</td>\n",
              "      <td>4.437</td>\n",
              "      <td>13.005</td>\n",
              "      <td>14.994</td>\n",
              "      <td>641.96</td>\n",
              "      <td>82.75</td>\n",
              "      <td>ID</td>\n",
              "    </tr>\n",
              "    <tr>\n",
              "      <th>13</th>\n",
              "      <td>12.8</td>\n",
              "      <td>4.608</td>\n",
              "      <td>4.352</td>\n",
              "      <td>12.032</td>\n",
              "      <td>12.288</td>\n",
              "      <td>803.11</td>\n",
              "      <td>139.15</td>\n",
              "      <td>IL</td>\n",
              "    </tr>\n",
              "    <tr>\n",
              "      <th>14</th>\n",
              "      <td>14.5</td>\n",
              "      <td>3.625</td>\n",
              "      <td>4.205</td>\n",
              "      <td>13.775</td>\n",
              "      <td>13.775</td>\n",
              "      <td>710.46</td>\n",
              "      <td>108.92</td>\n",
              "      <td>IN</td>\n",
              "    </tr>\n",
              "    <tr>\n",
              "      <th>15</th>\n",
              "      <td>15.7</td>\n",
              "      <td>2.669</td>\n",
              "      <td>3.925</td>\n",
              "      <td>15.229</td>\n",
              "      <td>13.659</td>\n",
              "      <td>649.06</td>\n",
              "      <td>114.47</td>\n",
              "      <td>IA</td>\n",
              "    </tr>\n",
              "    <tr>\n",
              "      <th>16</th>\n",
              "      <td>17.8</td>\n",
              "      <td>4.806</td>\n",
              "      <td>4.272</td>\n",
              "      <td>13.706</td>\n",
              "      <td>15.130</td>\n",
              "      <td>780.45</td>\n",
              "      <td>133.80</td>\n",
              "      <td>KS</td>\n",
              "    </tr>\n",
              "    <tr>\n",
              "      <th>17</th>\n",
              "      <td>21.4</td>\n",
              "      <td>4.066</td>\n",
              "      <td>4.922</td>\n",
              "      <td>16.692</td>\n",
              "      <td>16.264</td>\n",
              "      <td>872.51</td>\n",
              "      <td>137.13</td>\n",
              "      <td>KY</td>\n",
              "    </tr>\n",
              "    <tr>\n",
              "      <th>18</th>\n",
              "      <td>20.5</td>\n",
              "      <td>7.175</td>\n",
              "      <td>6.765</td>\n",
              "      <td>14.965</td>\n",
              "      <td>20.090</td>\n",
              "      <td>1281.55</td>\n",
              "      <td>194.78</td>\n",
              "      <td>LA</td>\n",
              "    </tr>\n",
              "    <tr>\n",
              "      <th>19</th>\n",
              "      <td>15.1</td>\n",
              "      <td>5.738</td>\n",
              "      <td>4.530</td>\n",
              "      <td>13.137</td>\n",
              "      <td>12.684</td>\n",
              "      <td>661.88</td>\n",
              "      <td>96.57</td>\n",
              "      <td>ME</td>\n",
              "    </tr>\n",
              "    <tr>\n",
              "      <th>20</th>\n",
              "      <td>12.5</td>\n",
              "      <td>4.250</td>\n",
              "      <td>4.000</td>\n",
              "      <td>8.875</td>\n",
              "      <td>12.375</td>\n",
              "      <td>1048.78</td>\n",
              "      <td>192.70</td>\n",
              "      <td>MD</td>\n",
              "    </tr>\n",
              "    <tr>\n",
              "      <th>21</th>\n",
              "      <td>8.2</td>\n",
              "      <td>1.886</td>\n",
              "      <td>2.870</td>\n",
              "      <td>7.134</td>\n",
              "      <td>6.560</td>\n",
              "      <td>1011.14</td>\n",
              "      <td>135.63</td>\n",
              "      <td>MA</td>\n",
              "    </tr>\n",
              "    <tr>\n",
              "      <th>22</th>\n",
              "      <td>14.1</td>\n",
              "      <td>3.384</td>\n",
              "      <td>3.948</td>\n",
              "      <td>13.395</td>\n",
              "      <td>10.857</td>\n",
              "      <td>1110.61</td>\n",
              "      <td>152.26</td>\n",
              "      <td>MI</td>\n",
              "    </tr>\n",
              "    <tr>\n",
              "      <th>23</th>\n",
              "      <td>9.6</td>\n",
              "      <td>2.208</td>\n",
              "      <td>2.784</td>\n",
              "      <td>8.448</td>\n",
              "      <td>8.448</td>\n",
              "      <td>777.18</td>\n",
              "      <td>133.35</td>\n",
              "      <td>MN</td>\n",
              "    </tr>\n",
              "    <tr>\n",
              "      <th>24</th>\n",
              "      <td>17.6</td>\n",
              "      <td>2.640</td>\n",
              "      <td>5.456</td>\n",
              "      <td>1.760</td>\n",
              "      <td>17.600</td>\n",
              "      <td>896.07</td>\n",
              "      <td>155.77</td>\n",
              "      <td>MS</td>\n",
              "    </tr>\n",
              "    <tr>\n",
              "      <th>25</th>\n",
              "      <td>16.1</td>\n",
              "      <td>6.923</td>\n",
              "      <td>5.474</td>\n",
              "      <td>14.812</td>\n",
              "      <td>13.524</td>\n",
              "      <td>790.32</td>\n",
              "      <td>144.45</td>\n",
              "      <td>MO</td>\n",
              "    </tr>\n",
              "    <tr>\n",
              "      <th>26</th>\n",
              "      <td>21.4</td>\n",
              "      <td>8.346</td>\n",
              "      <td>9.416</td>\n",
              "      <td>17.976</td>\n",
              "      <td>18.190</td>\n",
              "      <td>816.21</td>\n",
              "      <td>85.15</td>\n",
              "      <td>MT</td>\n",
              "    </tr>\n",
              "    <tr>\n",
              "      <th>27</th>\n",
              "      <td>14.9</td>\n",
              "      <td>1.937</td>\n",
              "      <td>5.215</td>\n",
              "      <td>13.857</td>\n",
              "      <td>13.410</td>\n",
              "      <td>732.28</td>\n",
              "      <td>114.82</td>\n",
              "      <td>NE</td>\n",
              "    </tr>\n",
              "    <tr>\n",
              "      <th>28</th>\n",
              "      <td>14.7</td>\n",
              "      <td>5.439</td>\n",
              "      <td>4.704</td>\n",
              "      <td>13.965</td>\n",
              "      <td>14.553</td>\n",
              "      <td>1029.87</td>\n",
              "      <td>138.71</td>\n",
              "      <td>NV</td>\n",
              "    </tr>\n",
              "    <tr>\n",
              "      <th>29</th>\n",
              "      <td>11.6</td>\n",
              "      <td>4.060</td>\n",
              "      <td>3.480</td>\n",
              "      <td>10.092</td>\n",
              "      <td>9.628</td>\n",
              "      <td>746.54</td>\n",
              "      <td>120.21</td>\n",
              "      <td>NH</td>\n",
              "    </tr>\n",
              "    <tr>\n",
              "      <th>30</th>\n",
              "      <td>11.2</td>\n",
              "      <td>1.792</td>\n",
              "      <td>3.136</td>\n",
              "      <td>9.632</td>\n",
              "      <td>8.736</td>\n",
              "      <td>1301.52</td>\n",
              "      <td>159.85</td>\n",
              "      <td>NJ</td>\n",
              "    </tr>\n",
              "    <tr>\n",
              "      <th>31</th>\n",
              "      <td>18.4</td>\n",
              "      <td>3.496</td>\n",
              "      <td>4.968</td>\n",
              "      <td>12.328</td>\n",
              "      <td>18.032</td>\n",
              "      <td>869.85</td>\n",
              "      <td>120.75</td>\n",
              "      <td>NM</td>\n",
              "    </tr>\n",
              "    <tr>\n",
              "      <th>32</th>\n",
              "      <td>12.3</td>\n",
              "      <td>3.936</td>\n",
              "      <td>3.567</td>\n",
              "      <td>10.824</td>\n",
              "      <td>9.840</td>\n",
              "      <td>1234.31</td>\n",
              "      <td>150.01</td>\n",
              "      <td>NY</td>\n",
              "    </tr>\n",
              "    <tr>\n",
              "      <th>33</th>\n",
              "      <td>16.8</td>\n",
              "      <td>6.552</td>\n",
              "      <td>5.208</td>\n",
              "      <td>15.792</td>\n",
              "      <td>13.608</td>\n",
              "      <td>708.24</td>\n",
              "      <td>127.82</td>\n",
              "      <td>NC</td>\n",
              "    </tr>\n",
              "    <tr>\n",
              "      <th>34</th>\n",
              "      <td>23.9</td>\n",
              "      <td>5.497</td>\n",
              "      <td>10.038</td>\n",
              "      <td>23.661</td>\n",
              "      <td>20.554</td>\n",
              "      <td>688.75</td>\n",
              "      <td>109.72</td>\n",
              "      <td>ND</td>\n",
              "    </tr>\n",
              "    <tr>\n",
              "      <th>35</th>\n",
              "      <td>14.1</td>\n",
              "      <td>3.948</td>\n",
              "      <td>4.794</td>\n",
              "      <td>13.959</td>\n",
              "      <td>11.562</td>\n",
              "      <td>697.73</td>\n",
              "      <td>133.52</td>\n",
              "      <td>OH</td>\n",
              "    </tr>\n",
              "    <tr>\n",
              "      <th>36</th>\n",
              "      <td>19.9</td>\n",
              "      <td>6.368</td>\n",
              "      <td>5.771</td>\n",
              "      <td>18.308</td>\n",
              "      <td>18.706</td>\n",
              "      <td>881.51</td>\n",
              "      <td>178.86</td>\n",
              "      <td>OK</td>\n",
              "    </tr>\n",
              "    <tr>\n",
              "      <th>37</th>\n",
              "      <td>12.8</td>\n",
              "      <td>4.224</td>\n",
              "      <td>3.328</td>\n",
              "      <td>8.576</td>\n",
              "      <td>11.520</td>\n",
              "      <td>804.71</td>\n",
              "      <td>104.61</td>\n",
              "      <td>OR</td>\n",
              "    </tr>\n",
              "    <tr>\n",
              "      <th>38</th>\n",
              "      <td>18.2</td>\n",
              "      <td>9.100</td>\n",
              "      <td>5.642</td>\n",
              "      <td>17.472</td>\n",
              "      <td>16.016</td>\n",
              "      <td>905.99</td>\n",
              "      <td>153.86</td>\n",
              "      <td>PA</td>\n",
              "    </tr>\n",
              "    <tr>\n",
              "      <th>39</th>\n",
              "      <td>11.1</td>\n",
              "      <td>3.774</td>\n",
              "      <td>4.218</td>\n",
              "      <td>10.212</td>\n",
              "      <td>8.769</td>\n",
              "      <td>1148.99</td>\n",
              "      <td>148.58</td>\n",
              "      <td>RI</td>\n",
              "    </tr>\n",
              "    <tr>\n",
              "      <th>40</th>\n",
              "      <td>23.9</td>\n",
              "      <td>9.082</td>\n",
              "      <td>9.799</td>\n",
              "      <td>22.944</td>\n",
              "      <td>19.359</td>\n",
              "      <td>858.97</td>\n",
              "      <td>116.29</td>\n",
              "      <td>SC</td>\n",
              "    </tr>\n",
              "    <tr>\n",
              "      <th>41</th>\n",
              "      <td>19.4</td>\n",
              "      <td>6.014</td>\n",
              "      <td>6.402</td>\n",
              "      <td>19.012</td>\n",
              "      <td>16.684</td>\n",
              "      <td>669.31</td>\n",
              "      <td>96.87</td>\n",
              "      <td>SD</td>\n",
              "    </tr>\n",
              "    <tr>\n",
              "      <th>42</th>\n",
              "      <td>19.5</td>\n",
              "      <td>4.095</td>\n",
              "      <td>5.655</td>\n",
              "      <td>15.990</td>\n",
              "      <td>15.795</td>\n",
              "      <td>767.91</td>\n",
              "      <td>155.57</td>\n",
              "      <td>TN</td>\n",
              "    </tr>\n",
              "    <tr>\n",
              "      <th>43</th>\n",
              "      <td>19.4</td>\n",
              "      <td>7.760</td>\n",
              "      <td>7.372</td>\n",
              "      <td>17.654</td>\n",
              "      <td>16.878</td>\n",
              "      <td>1004.75</td>\n",
              "      <td>156.83</td>\n",
              "      <td>TX</td>\n",
              "    </tr>\n",
              "    <tr>\n",
              "      <th>44</th>\n",
              "      <td>11.3</td>\n",
              "      <td>4.859</td>\n",
              "      <td>1.808</td>\n",
              "      <td>9.944</td>\n",
              "      <td>10.848</td>\n",
              "      <td>809.38</td>\n",
              "      <td>109.48</td>\n",
              "      <td>UT</td>\n",
              "    </tr>\n",
              "    <tr>\n",
              "      <th>45</th>\n",
              "      <td>13.6</td>\n",
              "      <td>4.080</td>\n",
              "      <td>4.080</td>\n",
              "      <td>13.056</td>\n",
              "      <td>12.920</td>\n",
              "      <td>716.20</td>\n",
              "      <td>109.61</td>\n",
              "      <td>VT</td>\n",
              "    </tr>\n",
              "    <tr>\n",
              "      <th>46</th>\n",
              "      <td>12.7</td>\n",
              "      <td>2.413</td>\n",
              "      <td>3.429</td>\n",
              "      <td>11.049</td>\n",
              "      <td>11.176</td>\n",
              "      <td>768.95</td>\n",
              "      <td>153.72</td>\n",
              "      <td>VA</td>\n",
              "    </tr>\n",
              "    <tr>\n",
              "      <th>47</th>\n",
              "      <td>10.6</td>\n",
              "      <td>4.452</td>\n",
              "      <td>3.498</td>\n",
              "      <td>8.692</td>\n",
              "      <td>9.116</td>\n",
              "      <td>890.03</td>\n",
              "      <td>111.62</td>\n",
              "      <td>WA</td>\n",
              "    </tr>\n",
              "    <tr>\n",
              "      <th>48</th>\n",
              "      <td>23.8</td>\n",
              "      <td>8.092</td>\n",
              "      <td>6.664</td>\n",
              "      <td>23.086</td>\n",
              "      <td>20.706</td>\n",
              "      <td>992.61</td>\n",
              "      <td>152.56</td>\n",
              "      <td>WV</td>\n",
              "    </tr>\n",
              "    <tr>\n",
              "      <th>49</th>\n",
              "      <td>13.8</td>\n",
              "      <td>4.968</td>\n",
              "      <td>4.554</td>\n",
              "      <td>5.382</td>\n",
              "      <td>11.592</td>\n",
              "      <td>670.31</td>\n",
              "      <td>106.62</td>\n",
              "      <td>WI</td>\n",
              "    </tr>\n",
              "    <tr>\n",
              "      <th>50</th>\n",
              "      <td>17.4</td>\n",
              "      <td>7.308</td>\n",
              "      <td>5.568</td>\n",
              "      <td>14.094</td>\n",
              "      <td>15.660</td>\n",
              "      <td>791.14</td>\n",
              "      <td>122.04</td>\n",
              "      <td>WY</td>\n",
              "    </tr>\n",
              "  </tbody>\n",
              "</table>\n",
              "</div>\n",
              "    <div class=\"colab-df-buttons\">\n",
              "\n",
              "  <div class=\"colab-df-container\">\n",
              "    <button class=\"colab-df-convert\" onclick=\"convertToInteractive('df-f1eaed59-5f9f-41a5-8980-4f7464ae61f1')\"\n",
              "            title=\"Convert this dataframe to an interactive table.\"\n",
              "            style=\"display:none;\">\n",
              "\n",
              "  <svg xmlns=\"http://www.w3.org/2000/svg\" height=\"24px\" viewBox=\"0 -960 960 960\">\n",
              "    <path d=\"M120-120v-720h720v720H120Zm60-500h600v-160H180v160Zm220 220h160v-160H400v160Zm0 220h160v-160H400v160ZM180-400h160v-160H180v160Zm440 0h160v-160H620v160ZM180-180h160v-160H180v160Zm440 0h160v-160H620v160Z\"/>\n",
              "  </svg>\n",
              "    </button>\n",
              "\n",
              "  <style>\n",
              "    .colab-df-container {\n",
              "      display:flex;\n",
              "      gap: 12px;\n",
              "    }\n",
              "\n",
              "    .colab-df-convert {\n",
              "      background-color: #E8F0FE;\n",
              "      border: none;\n",
              "      border-radius: 50%;\n",
              "      cursor: pointer;\n",
              "      display: none;\n",
              "      fill: #1967D2;\n",
              "      height: 32px;\n",
              "      padding: 0 0 0 0;\n",
              "      width: 32px;\n",
              "    }\n",
              "\n",
              "    .colab-df-convert:hover {\n",
              "      background-color: #E2EBFA;\n",
              "      box-shadow: 0px 1px 2px rgba(60, 64, 67, 0.3), 0px 1px 3px 1px rgba(60, 64, 67, 0.15);\n",
              "      fill: #174EA6;\n",
              "    }\n",
              "\n",
              "    .colab-df-buttons div {\n",
              "      margin-bottom: 4px;\n",
              "    }\n",
              "\n",
              "    [theme=dark] .colab-df-convert {\n",
              "      background-color: #3B4455;\n",
              "      fill: #D2E3FC;\n",
              "    }\n",
              "\n",
              "    [theme=dark] .colab-df-convert:hover {\n",
              "      background-color: #434B5C;\n",
              "      box-shadow: 0px 1px 3px 1px rgba(0, 0, 0, 0.15);\n",
              "      filter: drop-shadow(0px 1px 2px rgba(0, 0, 0, 0.3));\n",
              "      fill: #FFFFFF;\n",
              "    }\n",
              "  </style>\n",
              "\n",
              "    <script>\n",
              "      const buttonEl =\n",
              "        document.querySelector('#df-f1eaed59-5f9f-41a5-8980-4f7464ae61f1 button.colab-df-convert');\n",
              "      buttonEl.style.display =\n",
              "        google.colab.kernel.accessAllowed ? 'block' : 'none';\n",
              "\n",
              "      async function convertToInteractive(key) {\n",
              "        const element = document.querySelector('#df-f1eaed59-5f9f-41a5-8980-4f7464ae61f1');\n",
              "        const dataTable =\n",
              "          await google.colab.kernel.invokeFunction('convertToInteractive',\n",
              "                                                    [key], {});\n",
              "        if (!dataTable) return;\n",
              "\n",
              "        const docLinkHtml = 'Like what you see? Visit the ' +\n",
              "          '<a target=\"_blank\" href=https://colab.research.google.com/notebooks/data_table.ipynb>data table notebook</a>'\n",
              "          + ' to learn more about interactive tables.';\n",
              "        element.innerHTML = '';\n",
              "        dataTable['output_type'] = 'display_data';\n",
              "        await google.colab.output.renderOutput(dataTable, element);\n",
              "        const docLink = document.createElement('div');\n",
              "        docLink.innerHTML = docLinkHtml;\n",
              "        element.appendChild(docLink);\n",
              "      }\n",
              "    </script>\n",
              "  </div>\n",
              "\n",
              "\n",
              "<div id=\"df-ed0a4c48-9868-4e0b-968e-943ef79bb07c\">\n",
              "  <button class=\"colab-df-quickchart\" onclick=\"quickchart('df-ed0a4c48-9868-4e0b-968e-943ef79bb07c')\"\n",
              "            title=\"Suggest charts.\"\n",
              "            style=\"display:none;\">\n",
              "\n",
              "<svg xmlns=\"http://www.w3.org/2000/svg\" height=\"24px\"viewBox=\"0 0 24 24\"\n",
              "     width=\"24px\">\n",
              "    <g>\n",
              "        <path d=\"M19 3H5c-1.1 0-2 .9-2 2v14c0 1.1.9 2 2 2h14c1.1 0 2-.9 2-2V5c0-1.1-.9-2-2-2zM9 17H7v-7h2v7zm4 0h-2V7h2v10zm4 0h-2v-4h2v4z\"/>\n",
              "    </g>\n",
              "</svg>\n",
              "  </button>\n",
              "\n",
              "<style>\n",
              "  .colab-df-quickchart {\n",
              "      --bg-color: #E8F0FE;\n",
              "      --fill-color: #1967D2;\n",
              "      --hover-bg-color: #E2EBFA;\n",
              "      --hover-fill-color: #174EA6;\n",
              "      --disabled-fill-color: #AAA;\n",
              "      --disabled-bg-color: #DDD;\n",
              "  }\n",
              "\n",
              "  [theme=dark] .colab-df-quickchart {\n",
              "      --bg-color: #3B4455;\n",
              "      --fill-color: #D2E3FC;\n",
              "      --hover-bg-color: #434B5C;\n",
              "      --hover-fill-color: #FFFFFF;\n",
              "      --disabled-bg-color: #3B4455;\n",
              "      --disabled-fill-color: #666;\n",
              "  }\n",
              "\n",
              "  .colab-df-quickchart {\n",
              "    background-color: var(--bg-color);\n",
              "    border: none;\n",
              "    border-radius: 50%;\n",
              "    cursor: pointer;\n",
              "    display: none;\n",
              "    fill: var(--fill-color);\n",
              "    height: 32px;\n",
              "    padding: 0;\n",
              "    width: 32px;\n",
              "  }\n",
              "\n",
              "  .colab-df-quickchart:hover {\n",
              "    background-color: var(--hover-bg-color);\n",
              "    box-shadow: 0 1px 2px rgba(60, 64, 67, 0.3), 0 1px 3px 1px rgba(60, 64, 67, 0.15);\n",
              "    fill: var(--button-hover-fill-color);\n",
              "  }\n",
              "\n",
              "  .colab-df-quickchart-complete:disabled,\n",
              "  .colab-df-quickchart-complete:disabled:hover {\n",
              "    background-color: var(--disabled-bg-color);\n",
              "    fill: var(--disabled-fill-color);\n",
              "    box-shadow: none;\n",
              "  }\n",
              "\n",
              "  .colab-df-spinner {\n",
              "    border: 2px solid var(--fill-color);\n",
              "    border-color: transparent;\n",
              "    border-bottom-color: var(--fill-color);\n",
              "    animation:\n",
              "      spin 1s steps(1) infinite;\n",
              "  }\n",
              "\n",
              "  @keyframes spin {\n",
              "    0% {\n",
              "      border-color: transparent;\n",
              "      border-bottom-color: var(--fill-color);\n",
              "      border-left-color: var(--fill-color);\n",
              "    }\n",
              "    20% {\n",
              "      border-color: transparent;\n",
              "      border-left-color: var(--fill-color);\n",
              "      border-top-color: var(--fill-color);\n",
              "    }\n",
              "    30% {\n",
              "      border-color: transparent;\n",
              "      border-left-color: var(--fill-color);\n",
              "      border-top-color: var(--fill-color);\n",
              "      border-right-color: var(--fill-color);\n",
              "    }\n",
              "    40% {\n",
              "      border-color: transparent;\n",
              "      border-right-color: var(--fill-color);\n",
              "      border-top-color: var(--fill-color);\n",
              "    }\n",
              "    60% {\n",
              "      border-color: transparent;\n",
              "      border-right-color: var(--fill-color);\n",
              "    }\n",
              "    80% {\n",
              "      border-color: transparent;\n",
              "      border-right-color: var(--fill-color);\n",
              "      border-bottom-color: var(--fill-color);\n",
              "    }\n",
              "    90% {\n",
              "      border-color: transparent;\n",
              "      border-bottom-color: var(--fill-color);\n",
              "    }\n",
              "  }\n",
              "</style>\n",
              "\n",
              "  <script>\n",
              "    async function quickchart(key) {\n",
              "      const quickchartButtonEl =\n",
              "        document.querySelector('#' + key + ' button');\n",
              "      quickchartButtonEl.disabled = true;  // To prevent multiple clicks.\n",
              "      quickchartButtonEl.classList.add('colab-df-spinner');\n",
              "      try {\n",
              "        const charts = await google.colab.kernel.invokeFunction(\n",
              "            'suggestCharts', [key], {});\n",
              "      } catch (error) {\n",
              "        console.error('Error during call to suggestCharts:', error);\n",
              "      }\n",
              "      quickchartButtonEl.classList.remove('colab-df-spinner');\n",
              "      quickchartButtonEl.classList.add('colab-df-quickchart-complete');\n",
              "    }\n",
              "    (() => {\n",
              "      let quickchartButtonEl =\n",
              "        document.querySelector('#df-ed0a4c48-9868-4e0b-968e-943ef79bb07c button');\n",
              "      quickchartButtonEl.style.display =\n",
              "        google.colab.kernel.accessAllowed ? 'block' : 'none';\n",
              "    })();\n",
              "  </script>\n",
              "</div>\n",
              "    </div>\n",
              "  </div>\n"
            ]
          },
          "metadata": {},
          "execution_count": 3
        }
      ]
    },
    {
      "cell_type": "code",
      "source": [
        "sns.barplot(data=df.iloc[0:25,:],x='abbrev',y='total')"
      ],
      "metadata": {
        "colab": {
          "base_uri": "https://localhost:8080/",
          "height": 466
        },
        "id": "LIZIfcEyNXx_",
        "outputId": "335a4059-94c6-4f27-b8e6-03ccab9e6a72"
      },
      "execution_count": null,
      "outputs": [
        {
          "output_type": "execute_result",
          "data": {
            "text/plain": [
              "<Axes: xlabel='abbrev', ylabel='total'>"
            ]
          },
          "metadata": {},
          "execution_count": 16
        },
        {
          "output_type": "display_data",
          "data": {
            "text/plain": [
              "<Figure size 640x480 with 1 Axes>"
            ],
            "image/png": "[encoded data removed]"
          },
          "metadata": {}
        }
      ]
    },
    {
      "cell_type": "code",
      "source": [
        "sns.barplot(data=df.iloc[25:50,:],x='abbrev',y='total')"
      ],
      "metadata": {
        "colab": {
          "base_uri": "https://localhost:8080/",
          "height": 470
        },
        "id": "X67MbC0BQqcZ",
        "outputId": "e88bae1e-3653-43f6-82ce-5ce189064ffa"
      },
      "execution_count": null,
      "outputs": [
        {
          "output_type": "execute_result",
          "data": {
            "text/plain": [
              "<Axes: xlabel='abbrev', ylabel='total'>"
            ]
          },
          "metadata": {},
          "execution_count": 17
        },
        {
          "output_type": "display_data",
          "data": {
            "text/plain": [
              "<Figure size 640x480 with 1 Axes>"
            ],
            "image/png": "[encoded data removed]"
          },
          "metadata": {}
        }
      ]
    },
    {
      "cell_type": "code",
      "source": [
        "sns.boxplot(y='total',data=df)"
      ],
      "metadata": {
        "colab": {
          "base_uri": "https://localhost:8080/",
          "height": 432
        },
        "id": "qeImUdujG4SY",
        "outputId": "20e45136-0cf5-4b52-e69b-475e8fd31786"
      },
      "execution_count": null,
      "outputs": [
        {
          "output_type": "execute_result",
          "data": {
            "text/plain": [
              "<Axes: ylabel='total'>"
            ]
          },
          "metadata": {},
          "execution_count": 10
        },
        {
          "output_type": "display_data",
          "data": {
            "text/plain": [
              "<Figure size 640x480 with 1 Axes>"
            ],
            "image/png": "[encoded data removed]"
          },
          "metadata": {}
        }
      ]
    },
    {
      "cell_type": "code",
      "source": [
        "df.describe()"
      ],
      "metadata": {
        "colab": {
          "base_uri": "https://localhost:8080/",
          "height": 300
        },
        "id": "pAe_GtvyYvoY",
        "outputId": "132a4055-745e-4fb2-92ae-ae91475f555a"
      },
      "execution_count": null,
      "outputs": [
        {
          "output_type": "execute_result",
          "data": {
            "text/plain": [
              "           total   speeding    alcohol  not_distracted  no_previous  \\\n",
              "count  51.000000  51.000000  51.000000       51.000000    51.000000   \n",
              "mean   15.790196   4.998196   4.886784       13.573176    14.004882   \n",
              "std     4.122002   2.017747   1.729133        4.508977     3.764672   \n",
              "min     5.900000   1.792000   1.593000        1.760000     5.900000   \n",
              "25%    12.750000   3.766500   3.894000       10.478000    11.348000   \n",
              "50%    15.600000   4.608000   4.554000       13.857000    13.775000   \n",
              "75%    18.500000   6.439000   5.604000       16.140000    16.755000   \n",
              "max    23.900000   9.450000  10.038000       23.661000    21.280000   \n",
              "\n",
              "       ins_premium  ins_losses  \n",
              "count    51.000000   51.000000  \n",
              "mean    886.957647  134.493137  \n",
              "std     178.296285   24.835922  \n",
              "min     641.960000   82.750000  \n",
              "25%     768.430000  114.645000  \n",
              "50%     858.970000  136.050000  \n",
              "75%    1007.945000  151.870000  \n",
              "max    1301.520000  194.780000  "
            ],
            "text/html": [
              "\n",
              "  <div id=\"df-d7d9ffac-f8ad-42fa-a015-5104f70dfb31\" class=\"colab-df-container\">\n",
              "    <div>\n",
              "<style scoped>\n",
              "    .dataframe tbody tr th:only-of-type {\n",
              "        vertical-align: middle;\n",
              "    }\n",
              "\n",
              "    .dataframe tbody tr th {\n",
              "        vertical-align: top;\n",
              "    }\n",
              "\n",
              "    .dataframe thead th {\n",
              "        text-align: right;\n",
              "    }\n",
              "</style>\n",
              "<table border=\"1\" class=\"dataframe\">\n",
              "  <thead>\n",
              "    <tr style=\"text-align: right;\">\n",
              "      <th></th>\n",
              "      <th>total</th>\n",
              "      <th>speeding</th>\n",
              "      <th>alcohol</th>\n",
              "      <th>not_distracted</th>\n",
              "      <th>no_previous</th>\n",
              "      <th>ins_premium</th>\n",
              "      <th>ins_losses</th>\n",
              "    </tr>\n",
              "  </thead>\n",
              "  <tbody>\n",
              "    <tr>\n",
              "      <th>count</th>\n",
              "      <td>51.000000</td>\n",
              "      <td>51.000000</td>\n",
              "      <td>51.000000</td>\n",
              "      <td>51.000000</td>\n",
              "      <td>51.000000</td>\n",
              "      <td>51.000000</td>\n",
              "      <td>51.000000</td>\n",
              "    </tr>\n",
              "    <tr>\n",
              "      <th>mean</th>\n",
              "      <td>15.790196</td>\n",
              "      <td>4.998196</td>\n",
              "      <td>4.886784</td>\n",
              "      <td>13.573176</td>\n",
              "      <td>14.004882</td>\n",
              "      <td>886.957647</td>\n",
              "      <td>134.493137</td>\n",
              "    </tr>\n",
              "    <tr>\n",
              "      <th>std</th>\n",
              "      <td>4.122002</td>\n",
              "      <td>2.017747</td>\n",
              "      <td>1.729133</td>\n",
              "      <td>4.508977</td>\n",
              "      <td>3.764672</td>\n",
              "      <td>178.296285</td>\n",
              "      <td>24.835922</td>\n",
              "    </tr>\n",
              "    <tr>\n",
              "      <th>min</th>\n",
              "      <td>5.900000</td>\n",
              "      <td>1.792000</td>\n",
              "      <td>1.593000</td>\n",
              "      <td>1.760000</td>\n",
              "      <td>5.900000</td>\n",
              "      <td>641.960000</td>\n",
              "      <td>82.750000</td>\n",
              "    </tr>\n",
              "    <tr>\n",
              "      <th>25%</th>\n",
              "      <td>12.750000</td>\n",
              "      <td>3.766500</td>\n",
              "      <td>3.894000</td>\n",
              "      <td>10.478000</td>\n",
              "      <td>11.348000</td>\n",
              "      <td>768.430000</td>\n",
              "      <td>114.645000</td>\n",
              "    </tr>\n",
              "    <tr>\n",
              "      <th>50%</th>\n",
              "      <td>15.600000</td>\n",
              "      <td>4.608000</td>\n",
              "      <td>4.554000</td>\n",
              "      <td>13.857000</td>\n",
              "      <td>13.775000</td>\n",
              "      <td>858.970000</td>\n",
              "      <td>136.050000</td>\n",
              "    </tr>\n",
              "    <tr>\n",
              "      <th>75%</th>\n",
              "      <td>18.500000</td>\n",
              "      <td>6.439000</td>\n",
              "      <td>5.604000</td>\n",
              "      <td>16.140000</td>\n",
              "      <td>16.755000</td>\n",
              "      <td>1007.945000</td>\n",
              "      <td>151.870000</td>\n",
              "    </tr>\n",
              "    <tr>\n",
              "      <th>max</th>\n",
              "      <td>23.900000</td>\n",
              "      <td>9.450000</td>\n",
              "      <td>10.038000</td>\n",
              "      <td>23.661000</td>\n",
              "      <td>21.280000</td>\n",
              "      <td>1301.520000</td>\n",
              "      <td>194.780000</td>\n",
              "    </tr>\n",
              "  </tbody>\n",
              "</table>\n",
              "</div>\n",
              "    <div class=\"colab-df-buttons\">\n",
              "\n",
              "  <div class=\"colab-df-container\">\n",
              "    <button class=\"colab-df-convert\" onclick=\"convertToInteractive('df-d7d9ffac-f8ad-42fa-a015-5104f70dfb31')\"\n",
              "            title=\"Convert this dataframe to an interactive table.\"\n",
              "            style=\"display:none;\">\n",
              "\n",
              "  <svg xmlns=\"http://www.w3.org/2000/svg\" height=\"24px\" viewBox=\"0 -960 960 960\">\n",
              "    <path d=\"M120-120v-720h720v720H120Zm60-500h600v-160H180v160Zm220 220h160v-160H400v160Zm0 220h160v-160H400v160ZM180-400h160v-160H180v160Zm440 0h160v-160H620v160ZM180-180h160v-160H180v160Zm440 0h160v-160H620v160Z\"/>\n",
              "  </svg>\n",
              "    </button>\n",
              "\n",
              "  <style>\n",
              "    .colab-df-container {\n",
              "      display:flex;\n",
              "      gap: 12px;\n",
              "    }\n",
              "\n",
              "    .colab-df-convert {\n",
              "      background-color: #E8F0FE;\n",
              "      border: none;\n",
              "      border-radius: 50%;\n",
              "      cursor: pointer;\n",
              "      display: none;\n",
              "      fill: #1967D2;\n",
              "      height: 32px;\n",
              "      padding: 0 0 0 0;\n",
              "      width: 32px;\n",
              "    }\n",
              "\n",
              "    .colab-df-convert:hover {\n",
              "      background-color: #E2EBFA;\n",
              "      box-shadow: 0px 1px 2px rgba(60, 64, 67, 0.3), 0px 1px 3px 1px rgba(60, 64, 67, 0.15);\n",
              "      fill: #174EA6;\n",
              "    }\n",
              "\n",
              "    .colab-df-buttons div {\n",
              "      margin-bottom: 4px;\n",
              "    }\n",
              "\n",
              "    [theme=dark] .colab-df-convert {\n",
              "      background-color: #3B4455;\n",
              "      fill: #D2E3FC;\n",
              "    }\n",
              "\n",
              "    [theme=dark] .colab-df-convert:hover {\n",
              "      background-color: #434B5C;\n",
              "      box-shadow: 0px 1px 3px 1px rgba(0, 0, 0, 0.15);\n",
              "      filter: drop-shadow(0px 1px 2px rgba(0, 0, 0, 0.3));\n",
              "      fill: #FFFFFF;\n",
              "    }\n",
              "  </style>\n",
              "\n",
              "    <script>\n",
              "      const buttonEl =\n",
              "        document.querySelector('#df-d7d9ffac-f8ad-42fa-a015-5104f70dfb31 button.colab-df-convert');\n",
              "      buttonEl.style.display =\n",
              "        google.colab.kernel.accessAllowed ? 'block' : 'none';\n",
              "\n",
              "      async function convertToInteractive(key) {\n",
              "        const element = document.querySelector('#df-d7d9ffac-f8ad-42fa-a015-5104f70dfb31');\n",
              "        const dataTable =\n",
              "          await google.colab.kernel.invokeFunction('convertToInteractive',\n",
              "                                                    [key], {});\n",
              "        if (!dataTable) return;\n",
              "\n",
              "        const docLinkHtml = 'Like what you see? Visit the ' +\n",
              "          '<a target=\"_blank\" href=https://colab.research.google.com/notebooks/data_table.ipynb>data table notebook</a>'\n",
              "          + ' to learn more about interactive tables.';\n",
              "        element.innerHTML = '';\n",
              "        dataTable['output_type'] = 'display_data';\n",
              "        await google.colab.output.renderOutput(dataTable, element);\n",
              "        const docLink = document.createElement('div');\n",
              "        docLink.innerHTML = docLinkHtml;\n",
              "        element.appendChild(docLink);\n",
              "      }\n",
              "    </script>\n",
              "  </div>\n",
              "\n",
              "\n",
              "<div id=\"df-3a141255-261b-46f4-afab-1fcaa234dca0\">\n",
              "  <button class=\"colab-df-quickchart\" onclick=\"quickchart('df-3a141255-261b-46f4-afab-1fcaa234dca0')\"\n",
              "            title=\"Suggest charts.\"\n",
              "            style=\"display:none;\">\n",
              "\n",
              "<svg xmlns=\"http://www.w3.org/2000/svg\" height=\"24px\"viewBox=\"0 0 24 24\"\n",
              "     width=\"24px\">\n",
              "    <g>\n",
              "        <path d=\"M19 3H5c-1.1 0-2 .9-2 2v14c0 1.1.9 2 2 2h14c1.1 0 2-.9 2-2V5c0-1.1-.9-2-2-2zM9 17H7v-7h2v7zm4 0h-2V7h2v10zm4 0h-2v-4h2v4z\"/>\n",
              "    </g>\n",
              "</svg>\n",
              "  </button>\n",
              "\n",
              "<style>\n",
              "  .colab-df-quickchart {\n",
              "      --bg-color: #E8F0FE;\n",
              "      --fill-color: #1967D2;\n",
              "      --hover-bg-color: #E2EBFA;\n",
              "      --hover-fill-color: #174EA6;\n",
              "      --disabled-fill-color: #AAA;\n",
              "      --disabled-bg-color: #DDD;\n",
              "  }\n",
              "\n",
              "  [theme=dark] .colab-df-quickchart {\n",
              "      --bg-color: #3B4455;\n",
              "      --fill-color: #D2E3FC;\n",
              "      --hover-bg-color: #434B5C;\n",
              "      --hover-fill-color: #FFFFFF;\n",
              "      --disabled-bg-color: #3B4455;\n",
              "      --disabled-fill-color: #666;\n",
              "  }\n",
              "\n",
              "  .colab-df-quickchart {\n",
              "    background-color: var(--bg-color);\n",
              "    border: none;\n",
              "    border-radius: 50%;\n",
              "    cursor: pointer;\n",
              "    display: none;\n",
              "    fill: var(--fill-color);\n",
              "    height: 32px;\n",
              "    padding: 0;\n",
              "    width: 32px;\n",
              "  }\n",
              "\n",
              "  .colab-df-quickchart:hover {\n",
              "    background-color: var(--hover-bg-color);\n",
              "    box-shadow: 0 1px 2px rgba(60, 64, 67, 0.3), 0 1px 3px 1px rgba(60, 64, 67, 0.15);\n",
              "    fill: var(--button-hover-fill-color);\n",
              "  }\n",
              "\n",
              "  .colab-df-quickchart-complete:disabled,\n",
              "  .colab-df-quickchart-complete:disabled:hover {\n",
              "    background-color: var(--disabled-bg-color);\n",
              "    fill: var(--disabled-fill-color);\n",
              "    box-shadow: none;\n",
              "  }\n",
              "\n",
              "  .colab-df-spinner {\n",
              "    border: 2px solid var(--fill-color);\n",
              "    border-color: transparent;\n",
              "    border-bottom-color: var(--fill-color);\n",
              "    animation:\n",
              "      spin 1s steps(1) infinite;\n",
              "  }\n",
              "\n",
              "  @keyframes spin {\n",
              "    0% {\n",
              "      border-color: transparent;\n",
              "      border-bottom-color: var(--fill-color);\n",
              "      border-left-color: var(--fill-color);\n",
              "    }\n",
              "    20% {\n",
              "      border-color: transparent;\n",
              "      border-left-color: var(--fill-color);\n",
              "      border-top-color: var(--fill-color);\n",
              "    }\n",
              "    30% {\n",
              "      border-color: transparent;\n",
              "      border-left-color: var(--fill-color);\n",
              "      border-top-color: var(--fill-color);\n",
              "      border-right-color: var(--fill-color);\n",
              "    }\n",
              "    40% {\n",
              "      border-color: transparent;\n",
              "      border-right-color: var(--fill-color);\n",
              "      border-top-color: var(--fill-color);\n",
              "    }\n",
              "    60% {\n",
              "      border-color: transparent;\n",
              "      border-right-color: var(--fill-color);\n",
              "    }\n",
              "    80% {\n",
              "      border-color: transparent;\n",
              "      border-right-color: var(--fill-color);\n",
              "      border-bottom-color: var(--fill-color);\n",
              "    }\n",
              "    90% {\n",
              "      border-color: transparent;\n",
              "      border-bottom-color: var(--fill-color);\n",
              "    }\n",
              "  }\n",
              "</style>\n",
              "\n",
              "  <script>\n",
              "    async function quickchart(key) {\n",
              "      const quickchartButtonEl =\n",
              "        document.querySelector('#' + key + ' button');\n",
              "      quickchartButtonEl.disabled = true;  // To prevent multiple clicks.\n",
              "      quickchartButtonEl.classList.add('colab-df-spinner');\n",
              "      try {\n",
              "        const charts = await google.colab.kernel.invokeFunction(\n",
              "            'suggestCharts', [key], {});\n",
              "      } catch (error) {\n",
              "        console.error('Error during call to suggestCharts:', error);\n",
              "      }\n",
              "      quickchartButtonEl.classList.remove('colab-df-spinner');\n",
              "      quickchartButtonEl.classList.add('colab-df-quickchart-complete');\n",
              "    }\n",
              "    (() => {\n",
              "      let quickchartButtonEl =\n",
              "        document.querySelector('#df-3a141255-261b-46f4-afab-1fcaa234dca0 button');\n",
              "      quickchartButtonEl.style.display =\n",
              "        google.colab.kernel.accessAllowed ? 'block' : 'none';\n",
              "    })();\n",
              "  </script>\n",
              "</div>\n",
              "    </div>\n",
              "  </div>\n"
            ]
          },
          "metadata": {},
          "execution_count": 11
        }
      ]
    },
    {
      "cell_type": "markdown",
      "source": [
        "# **Inference**\n",
        "The speeding and alcohol cases have averages that are far from the total mean. This implies that speeding and alcohol cases are rare.\n",
        "\n",
        "However, the not_distracted and no_previous averages are closer to the mean, implying that they are common cases.\n"
      ],
      "metadata": {
        "id": "kjn0VjZlGGej"
      }
    },
    {
      "cell_type": "code",
      "source": [
        "sns.boxplot(y='total',data=df)"
      ],
      "metadata": {
        "colab": {
          "base_uri": "https://localhost:8080/",
          "height": 432
        },
        "id": "J_Lkmay51Sna",
        "outputId": "391a31da-3680-4947-d50f-5224ace99543"
      },
      "execution_count": null,
      "outputs": [
        {
          "output_type": "execute_result",
          "data": {
            "text/plain": [
              "<Axes: ylabel='total'>"
            ]
          },
          "metadata": {},
          "execution_count": 4
        },
        {
          "output_type": "display_data",
          "data": {
            "text/plain": [
              "<Figure size 640x480 with 1 Axes>"
            ],
            "image/png": "[encoded data removed]"
          },
          "metadata": {}
        }
      ]
    },
    {
      "cell_type": "markdown",
      "source": [
        "# **Inference**\n",
        "There are no outliers in the total.\n",
        "The maximum value is 23.9\n",
        "The minimum value is 5.9\n",
        "q1 = 12.75\n",
        "The median is 15.6\n",
        "q3 = 18.5\n",
        "The IQR is 5.75"
      ],
      "metadata": {
        "id": "lu8xm0HH1shH"
      }
    },
    {
      "cell_type": "code",
      "source": [
        "sns.boxplot(y='speeding',data=df)"
      ],
      "metadata": {
        "colab": {
          "base_uri": "https://localhost:8080/",
          "height": 428
        },
        "id": "u8chrCm32TPn",
        "outputId": "34df04cf-7b1c-459f-92ff-6114ae7465ad"
      },
      "execution_count": null,
      "outputs": [
        {
          "output_type": "execute_result",
          "data": {
            "text/plain": [
              "<Axes: ylabel='speeding'>"
            ]
          },
          "metadata": {},
          "execution_count": 5
        },
        {
          "output_type": "display_data",
          "data": {
            "text/plain": [
              "<Figure size 640x480 with 1 Axes>"
            ],
            "image/png": "[encoded data removed]"
          },
          "metadata": {}
        }
      ]
    },
    {
      "cell_type": "code",
      "source": [
        "sns.boxplot(y='alcohol',data=df)"
      ],
      "metadata": {
        "colab": {
          "base_uri": "https://localhost:8080/",
          "height": 428
        },
        "id": "Cgu6oahk2WSs",
        "outputId": "621f1130-f964-4b6a-b60a-99b0e6eb25b0"
      },
      "execution_count": null,
      "outputs": [
        {
          "output_type": "execute_result",
          "data": {
            "text/plain": [
              "<Axes: ylabel='alcohol'>"
            ]
          },
          "metadata": {},
          "execution_count": 6
        },
        {
          "output_type": "display_data",
          "data": {
            "text/plain": [
              "<Figure size 640x480 with 1 Axes>"
            ],
            "image/png": "[encoded data removed]"
          },
          "metadata": {}
        }
      ]
    },
    {
      "cell_type": "markdown",
      "source": [
        "# **Inference**\n",
        "The alcohol cases have three outliers which are significantly higher than the upper quartile."
      ],
      "metadata": {
        "id": "C_ITLEKm2iCs"
      }
    },
    {
      "cell_type": "code",
      "source": [
        "sns.boxplot(y='not_distracted',data=df)"
      ],
      "metadata": {
        "colab": {
          "base_uri": "https://localhost:8080/",
          "height": 428
        },
        "id": "vGZhrv9h2de5",
        "outputId": "2e204e68-f33e-4702-9df9-f07ad8f932f9"
      },
      "execution_count": null,
      "outputs": [
        {
          "output_type": "execute_result",
          "data": {
            "text/plain": [
              "<Axes: ylabel='not_distracted'>"
            ]
          },
          "metadata": {},
          "execution_count": 8
        },
        {
          "output_type": "display_data",
          "data": {
            "text/plain": [
              "<Figure size 640x480 with 1 Axes>"
            ],
            "image/png": "[encoded data removed]"
          },
          "metadata": {}
        }
      ]
    },
    {
      "cell_type": "markdown",
      "source": [
        "# **Inference**\n",
        "The is one outlier in the undistracted cases. It is lower than the lower quartile."
      ],
      "metadata": {
        "id": "7W1h1eyY27OG"
      }
    },
    {
      "cell_type": "code",
      "source": [
        "sns.boxplot(y='no_previous',data=df)"
      ],
      "metadata": {
        "colab": {
          "base_uri": "https://localhost:8080/",
          "height": 432
        },
        "id": "CXHOOJZw21Cr",
        "outputId": "072d6b6d-bfd4-44c2-ffe0-5781a735a4d8"
      },
      "execution_count": null,
      "outputs": [
        {
          "output_type": "execute_result",
          "data": {
            "text/plain": [
              "<Axes: ylabel='no_previous'>"
            ]
          },
          "metadata": {},
          "execution_count": 9
        },
        {
          "output_type": "display_data",
          "data": {
            "text/plain": [
              "<Figure size 640x480 with 1 Axes>"
            ],
            "image/png": "[encoded data removed]"
          },
          "metadata": {}
        }
      ]
    },
    {
      "cell_type": "markdown",
      "source": [
        "# **Inference**\n",
        "There are no outliers in the 'new car crash' cases"
      ],
      "metadata": {
        "id": "eMbpObLb3TgH"
      }
    },
    {
      "cell_type": "code",
      "source": [
        "sns.boxplot(y='ins_premium',data=df)"
      ],
      "metadata": {
        "colab": {
          "base_uri": "https://localhost:8080/",
          "height": 428
        },
        "id": "Tmxteww-3PPw",
        "outputId": "ba58ce06-2b3e-4171-f964-b1d37784b110"
      },
      "execution_count": null,
      "outputs": [
        {
          "output_type": "execute_result",
          "data": {
            "text/plain": [
              "<Axes: ylabel='ins_premium'>"
            ]
          },
          "metadata": {},
          "execution_count": 10
        },
        {
          "output_type": "display_data",
          "data": {
            "text/plain": [
              "<Figure size 640x480 with 1 Axes>"
            ],
            "image/png": "[encoded data removed]"
          },
          "metadata": {}
        }
      ]
    },
    {
      "cell_type": "code",
      "source": [
        "sns.boxplot(y='ins_losses',data=df)"
      ],
      "metadata": {
        "colab": {
          "base_uri": "https://localhost:8080/",
          "height": 432
        },
        "id": "lklc38yy3k_r",
        "outputId": "39f0b0cc-a194-4703-f4b8-f402a9f13a7a"
      },
      "execution_count": null,
      "outputs": [
        {
          "output_type": "execute_result",
          "data": {
            "text/plain": [
              "<Axes: ylabel='ins_losses'>"
            ]
          },
          "metadata": {},
          "execution_count": 11
        },
        {
          "output_type": "display_data",
          "data": {
            "text/plain": [
              "<Figure size 640x480 with 1 Axes>"
            ],
            "image/png": "[encoded data removed]"
          },
          "metadata": {}
        }
      ]
    },
    {
      "cell_type": "markdown",
      "source": [
        "# **Inference**\n",
        "There are no outliers in the insurance values.\n",
        "The average insurance paid is 887.\n",
        "The average insurance loss is $25."
      ],
      "metadata": {
        "id": "-pMElwJM31VW"
      }
    },
    {
      "cell_type": "code",
      "source": [
        "sns.scatterplot(x='total',y='ins_premium',data=df)"
      ],
      "metadata": {
        "colab": {
          "base_uri": "https://localhost:8080/",
          "height": 466
        },
        "id": "8PILB5Q73wXL",
        "outputId": "799b2bc9-8782-49e5-e5aa-b808c722c907"
      },
      "execution_count": null,
      "outputs": [
        {
          "output_type": "execute_result",
          "data": {
            "text/plain": [
              "<Axes: xlabel='total', ylabel='ins_premium'>"
            ]
          },
          "metadata": {},
          "execution_count": 12
        },
        {
          "output_type": "display_data",
          "data": {
            "text/plain": [
              "<Figure size 640x480 with 1 Axes>"
            ],
            "image/png": "[encoded data removed]"
          },
          "metadata": {}
        }
      ]
    },
    {
      "cell_type": "markdown",
      "source": [
        "# **Inference**\n",
        "There is no correlation between the total and the insurance paid"
      ],
      "metadata": {
        "id": "aXLR-Q1j4b2h"
      }
    },
    {
      "cell_type": "code",
      "source": [
        "corr= df.iloc[:,0:7].corr()"
      ],
      "metadata": {
        "id": "Qs9d-CSA4Y-Z"
      },
      "execution_count": null,
      "outputs": []
    },
    {
      "cell_type": "code",
      "source": [
        "sns.heatmap(corr)"
      ],
      "metadata": {
        "colab": {
          "base_uri": "https://localhost:8080/",
          "height": 538
        },
        "id": "UJ8pQgJ24r4M",
        "outputId": "8e77f6bc-cffa-4f08-c7d4-8d7c7e04d9e4"
      },
      "execution_count": null,
      "outputs": [
        {
          "output_type": "execute_result",
          "data": {
            "text/plain": [
              "<Axes: >"
            ]
          },
          "metadata": {},
          "execution_count": 18
        },
        {
          "output_type": "display_data",
          "data": {
            "text/plain": [
              "<Figure size 640x480 with 2 Axes>"
            ],
            "image/png": "[encoded data removed]"
          },
          "metadata": {}
        }
      ]
    },
    {
      "cell_type": "markdown",
      "source": [
        "# **Inference**\n",
        "Insurance loss has the relatively strongest correlation with first accidents ('no_previous').\n",
        "The strongest correlation premium insurance has is with speeding accidents."
      ],
      "metadata": {
        "id": "z0uJvI0K55OM"
      }
    },
    {
      "cell_type": "code",
      "source": [
        "\n",
        "sns.distplot(df['total'])"
      ],
      "metadata": {
        "colab": {
          "base_uri": "https://localhost:8080/",
          "height": 657
        },
        "id": "eYZccU5G54SS",
        "outputId": "39af0242-96cc-4724-b7c4-f0b54d0adae4"
      },
      "execution_count": null,
      "outputs": [
        {
          "output_type": "stream",
          "name": "stderr",
          "text": [
            "<ipython-input-24-2ba73417f012>:1: UserWarning: \n",
            "\n",
            "`distplot` is a deprecated function and will be removed in seaborn v0.14.0.\n",
            "\n",
            "Please adapt your code to use either `displot` (a figure-level function with\n",
            "similar flexibility) or `histplot` (an axes-level function for histograms).\n",
            "\n",
            "For a guide to updating your code to use the new functions, please see\n",
            "https://gist.github.com/mwaskom/de44147ed2974457ad6372750bbe5751\n",
            "\n",
            "  sns.distplot(df['total'])\n"
          ]
        },
        {
          "output_type": "execute_result",
          "data": {
            "text/plain": [
              "<Axes: xlabel='total', ylabel='Density'>"
            ]
          },
          "metadata": {},
          "execution_count": 24
        },
        {
          "output_type": "display_data",
          "data": {
            "text/plain": [
              "<Figure size 640x480 with 1 Axes>"
            ],
            "image/png": "[encoded data removed]"
          },
          "metadata": {}
        }
      ]
    },
    {
      "cell_type": "markdown",
      "source": [
        "# **Inference**\n",
        "Most crash totals fall between 10 and 20."
      ],
      "metadata": {
        "id": "8skjwPJH7Fn5"
      }
    },
    {
      "cell_type": "code",
      "source": [
        "import matplotlib.pyplot as plt"
      ],
      "metadata": {
        "id": "7qBzlgRQ6xhU"
      },
      "execution_count": null,
      "outputs": []
    },
    {
      "cell_type": "code",
      "source": [
        "plt.pie(df.iloc[:,1:5].sum(),labels=['speeding','alcohol','not_distracted','no_previous'])"
      ],
      "metadata": {
        "colab": {
          "base_uri": "https://localhost:8080/",
          "height": 545
        },
        "id": "0O-OwiK873zg",
        "outputId": "7f9e6b87-0b82-4625-88fb-6dafbc9e4a91"
      },
      "execution_count": null,
      "outputs": [
        {
          "output_type": "execute_result",
          "data": {
            "text/plain": [
              "([<matplotlib.patches.Wedge at 0x7930d18f1ba0>,\n",
              "  <matplotlib.patches.Wedge at 0x7930d18f1ab0>,\n",
              "  <matplotlib.patches.Wedge at 0x7930d18f2470>,\n",
              "  <matplotlib.patches.Wedge at 0x7930d18f28f0>],\n",
              " [Text(1.0047827521124513, 0.44767356528761915, 'speeding'),\n",
              "  Text(0.3488580016798656, 1.0432152676528135, 'alcohol'),\n",
              "  Text(-1.0350010951711164, 0.3725221241679345, 'not_distracted'),\n",
              "  Text(0.42467804535234077, -1.0147159985905985, 'no_previous')])"
            ]
          },
          "metadata": {},
          "execution_count": 43
        },
        {
          "output_type": "display_data",
          "data": {
            "text/plain": [
              "<Figure size 640x480 with 1 Axes>"
            ],
            "image/png": "[encoded data removed]"
          },
          "metadata": {}
        }
      ]
    },
    {
      "cell_type": "markdown",
      "source": [
        "# **Inference**\n",
        "Most accidents are first-time\n",
        "The second-largest value is for undistracted accidents\n",
        "Speeding accidents are the least occuring."
      ],
      "metadata": {
        "id": "b1mWcVnN-NPI"
      }
    },
    {
      "cell_type": "code",
      "source": [],
      "metadata": {
        "colab": {
          "base_uri": "https://localhost:8080/"
        },
        "id": "d-VniI698lFE",
        "outputId": "ee9bdd82-4e79-4d35-c1a7-f193de17c667"
      },
      "execution_count": null,
      "outputs": [
        {
          "output_type": "execute_result",
          "data": {
            "text/plain": [
              "[total    805.3\n",
              " dtype: float64,\n",
              " total       805.300\n",
              " speeding    254.908\n",
              " dtype: float64,\n",
              " total       805.300\n",
              " speeding    254.908\n",
              " alcohol     249.226\n",
              " dtype: float64,\n",
              " total             805.300\n",
              " speeding          254.908\n",
              " alcohol           249.226\n",
              " not_distracted    692.232\n",
              " dtype: float64]"
            ]
          },
          "metadata": {},
          "execution_count": 36
        }
      ]
    },
    {
      "cell_type": "code",
      "source": [],
      "metadata": {
        "id": "ozWA-0ys8oVK"
      },
      "execution_count": null,
      "outputs": []
    }
  ]
}